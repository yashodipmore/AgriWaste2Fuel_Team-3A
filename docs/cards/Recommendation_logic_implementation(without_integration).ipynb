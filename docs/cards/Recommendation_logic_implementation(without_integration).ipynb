{
 "cells": [
  {
   "cell_type": "markdown",
   "id": "9f3c80af",
   "metadata": {},
   "source": [
    "# Farm-Waste Handling Recommendation System with GHG + Carbon Credit Estimation"
   ]
  },
  {
   "cell_type": "markdown",
   "id": "642874e7",
   "metadata": {},
   "source": [
    "## Weight range midpoints"
   ]
  },
  {
   "cell_type": "code",
   "execution_count": 1,
   "id": "1e101979",
   "metadata": {},
   "outputs": [],
   "source": [
    "weight_range_midpoints = {\n",
    "    \"<10kg\": 5,\n",
    "    \"10–50kg\": 30,\n",
    "    \"50–100kg\": 75,\n",
    "    \"100–500kg\": 300,\n",
    "    \">500kg\": 600\n",
    "}"
   ]
  },
  {
   "cell_type": "markdown",
   "id": "41f2454d",
   "metadata": {},
   "source": [
    "## Attribute profiles"
   ]
  },
  {
   "cell_type": "code",
   "execution_count": 3,
   "id": "c0747eaf",
   "metadata": {},
   "outputs": [],
   "source": [
    "attribute_profiles = {\n",
    "    \"cow_dung\": {\"%C\": 38, \"%N\": 0.5, \"cn_ratio\": 76, \"decomposition_speed\": \"fast\"},\n",
    "    \"fruit_veg_peels\": {\"%C\": 28, \"%N\": 1.0, \"cn_ratio\": 28, \"decomposition_speed\": \"fast\"},\n",
    "    \"crop_residues\": {\"%C\": 45, \"%N\": 0.7, \"cn_ratio\": 64, \"decomposition_speed\": \"medium\"}}"
   ]
  },
  {
   "cell_type": "markdown",
   "id": "60956fa7",
   "metadata": {},
   "source": [
    "## GHG saving factors per (waste, method)"
   ]
  },
  {
   "cell_type": "code",
   "execution_count": 5,
   "id": "250b2e31",
   "metadata": {},
   "outputs": [],
   "source": [
    "ghg_saving_factors = {\n",
    "    (\"cow_dung\", \"Biogas\"): (0.36, 0.45),\n",
    "    (\"cow_dung\", \"Composting\"): (0.12, 0.18),\n",
    "    (\"cow_dung\", \"Vermicompost\"): (0.15, 0.22),\n",
    "    (\"fruit_veg_peels\", \"Biogas\"): (0.32, 0.40),\n",
    "    (\"fruit_veg_peels\", \"Composting\"): (0.14, 0.20),\n",
    "    (\"fruit_veg_peels\", \"Vermicompost\"): (0.18, 0.24),\n",
    "    (\"crop_residues\", \"Biogas\"): (0.34, 0.42),\n",
    "    (\"crop_residues\", \"Composting\"): (0.10, 0.14),\n",
    "    (\"crop_residues\", \"Vermicompost\"): (0.12, 0.16),\n",
    "    (\"crop_residues\", \"Mulching\"): (0.80, 0.80),}"
   ]
  },
  {
   "cell_type": "markdown",
   "id": "da159442",
   "metadata": {},
   "source": [
    "## Carbon credit pricing tiers (₹ per kg CO₂e)"
   ]
  },
  {
   "cell_type": "code",
   "execution_count": 8,
   "id": "cd275cbb",
   "metadata": {},
   "outputs": [],
   "source": [
    "carbon_credit_prices = {\n",
    "    \"low\": 0.50,\n",
    "    \"mid\": 0.85,\n",
    "    \"high\": 1.00\n",
    "}"
   ]
  },
  {
   "cell_type": "markdown",
   "id": "11aa8192",
   "metadata": {},
   "source": [
    "## GHG savings + credit estimator"
   ]
  },
  {
   "cell_type": "code",
   "execution_count": 9,
   "id": "cbfccb91",
   "metadata": {},
   "outputs": [],
   "source": [
    "def estimate_ghg_savings_and_credits(waste_type, method, weight_kg, price_tier=\"mid\"):\n",
    "    key = (waste_type, method)\n",
    "    if key not in ghg_saving_factors:\n",
    "        return {\n",
    "            \"ghg_savings_range\": \"N/A\",\n",
    "            \"carbon_credit_value\": \"N/A\",\n",
    "            \"credit_rate_used\": \"N/A\"\n",
    "        }\n",
    "\n",
    "    min_factor, max_factor = ghg_saving_factors[key]\n",
    "    min_saving = round(weight_kg * min_factor, 2)\n",
    "    max_saving = round(weight_kg * max_factor, 2)\n",
    "    credit_rate_per_kg = carbon_credit_prices.get(price_tier, 0.85)\n",
    "    min_credit = round(min_saving * credit_rate_per_kg, 2)\n",
    "    max_credit = round(max_saving * credit_rate_per_kg, 2)\n",
    "\n",
    "    return {\n",
    "        \"ghg_savings_range\": f\"{min_saving} – {max_saving} kg CO₂e\",\n",
    "        \"carbon_credit_value\": f\"₹{min_credit} – ₹{max_credit}\",\n",
    "        \"credit_rate_used\": f\"{credit_rate_per_kg} ₹/kg CO₂e ({price_tier})\"\n",
    "    }\n"
   ]
  },
  {
   "cell_type": "markdown",
   "id": "80e7a015",
   "metadata": {},
   "source": [
    "## Main recommendation function"
   ]
  },
  {
   "cell_type": "code",
   "execution_count": 7,
   "id": "b75b4a10",
   "metadata": {},
   "outputs": [],
   "source": [
    "def full_farm_waste_recommendation(waste_type, weight_range, moisture_content, climate_zone, price_tier=\"mid\"):\n",
    "    weight = weight_range_midpoints[weight_range]\n",
    "    method = \"\"\n",
    "    reason = \"\"\n",
    "    output_min = 0\n",
    "    output_max = 0\n",
    "    output_unit = \"\"\n",
    "\n",
    "    # Recommendation logic\n",
    "    if waste_type == \"cow_dung\":\n",
    "        if weight >= 50 and moisture_content in [\"moist\", \"wet\"]:\n",
    "            method = \"Biogas\"\n",
    "            reason = (\n",
    "                \"You have enough cow dung and it is wet — this is great for making gas at home. \"\n",
    "                \"The gas can be used for cooking or lighting. After making gas, a leftover liquid comes out, \"\n",
    "                \"which is good for farming. This setup works well for families or groups of farmers.\"\n",
    "            )\n",
    "            output_min = round(weight * 0.20, 2)\n",
    "            output_max = round(weight * 0.30, 2)\n",
    "            output_unit = \"m³ of biogas\"\n",
    "        else:\n",
    "            method = \"Vermicompost\"\n",
    "            reason = (\n",
    "                \"With less dung or if it’s a bit dry, making vermicompost is a good idea. \"\n",
    "                \"Just mix dung with worms in a box or pit. After 30–40 days, it turns into black compost \"\n",
    "                \"that is very good for crops.\"\n",
    "            )\n",
    "            output_min = round(weight * 0.60, 2)\n",
    "            output_max = round(weight * 0.75, 2)\n",
    "            output_unit = \"kg of vermicompost\"\n",
    "\n",
    "    elif waste_type == \"fruit_veg_peels\":\n",
    "        if moisture_content == \"wet\" and weight <= 50:\n",
    "            method = \"Vermicompost\"\n",
    "            reason = (\n",
    "                \"Wet kitchen waste like fruit or vegetable peels is best for making compost with worms. \"\n",
    "                \"You don’t need much space — even a small bin is enough. The final compost is soft and good \"\n",
    "                \"for home gardens or crops.\"\n",
    "            )\n",
    "            output_min = round(weight * 0.60, 2)\n",
    "            output_max = round(weight * 0.85, 2)\n",
    "            output_unit = \"kg of vermicompost\"\n",
    "        else:\n",
    "            method = \"Composting\"\n",
    "            reason = (\n",
    "                \"If you have a lot of peels or if it’s too wet or dry, you can compost it. \"\n",
    "                \"Just make a pile with dry waste or cow dung and turn it sometimes. After a few weeks, \"\n",
    "                \"it becomes healthy soil compost.\"\n",
    "            )\n",
    "            output_min = round(weight * 0.35, 2)\n",
    "            output_max = round(weight * 0.45, 2)\n",
    "            output_unit = \"kg of compost\"\n",
    "\n",
    "    elif waste_type == \"crop_residues\":\n",
    "        if moisture_content == \"dry\" and climate_zone == \"dry_hot\":\n",
    "            method = \"Mulching\"\n",
    "            reason = (\n",
    "                \"Dry crop waste is best used as mulch in dry or hot areas. Just spread it on your soil. \"\n",
    "                \"It saves water, keeps the soil cool, and stops weeds from growing.\"\n",
    "            )\n",
    "            output_min = output_max = weight\n",
    "            output_unit = \"kg of mulch\"\n",
    "        else:\n",
    "            method = \"Composting\"\n",
    "            reason = (\n",
    "                \"Dry crop waste can be composted by mixing it with cow dung or wet waste. \"\n",
    "                \"Keep it moist and turn it sometimes. After 6–8 weeks, it becomes soft compost that is good for farms.\"\n",
    "            )\n",
    "            output_min = round(weight * 0.30, 2)\n",
    "            output_max = round(weight * 0.45, 2)\n",
    "            output_unit = \"kg of compost\"\n",
    "\n",
    "    # Estimate GHG and credit\n",
    "    ghg_info = estimate_ghg_savings_and_credits(waste_type, method, weight, price_tier)\n",
    "\n",
    "    return {\n",
    "        \"recommended_method\": method,\n",
    "        \"reason\": reason,\n",
    "        \"expected_output_range\": f\"{output_min} – {output_max} {output_unit}\",\n",
    "        \"ghg_savings_range\": ghg_info[\"ghg_savings_range\"],\n",
    "        \"carbon_credit_value\": ghg_info[\"carbon_credit_value\"],\n",
    "        \"credit_rate_used\": ghg_info[\"credit_rate_used\"]\n",
    "    }\n"
   ]
  },
  {
   "cell_type": "code",
   "execution_count": null,
   "id": "dd7b4e15",
   "metadata": {},
   "outputs": [],
   "source": []
  }
 ],
 "metadata": {
  "kernelspec": {
   "display_name": ".venv",
   "language": "python",
   "name": "python3"
  },
  "language_info": {
   "codemirror_mode": {
    "name": "ipython",
    "version": 3
   },
   "file_extension": ".py",
   "mimetype": "text/x-python",
   "name": "python",
   "nbconvert_exporter": "python",
   "pygments_lexer": "ipython3",
   "version": "3.13.3"
  }
 },
 "nbformat": 4,
 "nbformat_minor": 5
}
